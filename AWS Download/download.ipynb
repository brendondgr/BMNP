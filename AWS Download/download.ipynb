{
 "cells": [
  {
   "cell_type": "code",
   "execution_count": 1,
   "metadata": {},
   "outputs": [],
   "source": [
    "import datetime as dt\n",
    "from harmony import BBox, Client, Collection, Request, LinkType\n",
    "import s3fs\n",
    "import xarray as xr\n",
    "import json\n",
    "import requests"
   ]
  },
  {
   "cell_type": "code",
   "execution_count": 2,
   "metadata": {},
   "outputs": [],
   "source": [
    "# Initialize Harmony client\n",
    "harmony_client = Client()"
   ]
  },
  {
   "cell_type": "code",
   "execution_count": 3,
   "metadata": {},
   "outputs": [],
   "source": [
    "# Define dataset and parameters\n",
    "dataset_short_name = 'MUR-JPL-L4-GLOB-v4.1'\n",
    "spatial_bbox = BBox(-125.469, 15.820, -99.453, 35.859)  # Define your bounding box coordinates\n",
    "temporal_start = dt.datetime(2021, 3, 10, 1)\n",
    "temporal_stop = dt.datetime(2021, 3, 10, 2)"
   ]
  },
  {
   "cell_type": "code",
   "execution_count": 4,
   "metadata": {},
   "outputs": [],
   "source": [
    "# Create the request\n",
    "request = Request(\n",
    "    collection=Collection(id=dataset_short_name),\n",
    "    spatial=spatial_bbox,\n",
    "    temporal={\n",
    "        'start': temporal_start,\n",
    "        'stop': temporal_stop\n",
    "    }\n",
    ")"
   ]
  },
  {
   "cell_type": "code",
   "execution_count": 5,
   "metadata": {},
   "outputs": [
    {
     "name": "stdout",
     "output_type": "stream",
     "text": [
      "Request failed: Expecting value: line 1 column 1 (char 0)\n"
     ]
    }
   ],
   "source": [
    "# Submit the request and handle potential errors\n",
    "try:\n",
    "    job_id = harmony_client.submit(request)\n",
    "    harmony_client.wait_for_processing(job_id)\n",
    "except requests.exceptions.RequestException as e:\n",
    "    print(f\"Request failed: {e}\")\n",
    "    exit(1)\n",
    "except json.JSONDecodeError as e:\n",
    "    print(f\"JSON decode error: {e}\")\n",
    "    exit(1)"
   ]
  },
  {
   "cell_type": "code",
   "execution_count": 6,
   "metadata": {},
   "outputs": [
    {
     "name": "stdout",
     "output_type": "stream",
     "text": [
      "Failed to retrieve result URLs: name 'job_id' is not defined\n"
     ]
    }
   ],
   "source": [
    "# Retrieve the result URLs\n",
    "try:\n",
    "    results = harmony_client.result_urls(job_id, link_type=LinkType.s3)\n",
    "    urls = list(results)\n",
    "except Exception as e:\n",
    "    print(f\"Failed to retrieve result URLs: {e}\")\n",
    "    exit(1)"
   ]
  },
  {
   "cell_type": "code",
   "execution_count": 7,
   "metadata": {},
   "outputs": [
    {
     "name": "stdout",
     "output_type": "stream",
     "text": [
      "Failed to retrieve AWS credentials: Expecting value: line 1 column 1 (char 0)\n"
     ]
    }
   ],
   "source": [
    "# Retrieve AWS credentials\n",
    "try:\n",
    "    creds = harmony_client.aws_credentials()\n",
    "except Exception as e:\n",
    "    print(f\"Failed to retrieve AWS credentials: {e}\")\n",
    "    exit(1)"
   ]
  },
  {
   "cell_type": "code",
   "execution_count": 8,
   "metadata": {},
   "outputs": [
    {
     "name": "stdout",
     "output_type": "stream",
     "text": [
      "Failed to set up S3 file system: name 'creds' is not defined\n"
     ]
    }
   ],
   "source": [
    "# Set up S3 file system\n",
    "try:\n",
    "    s3_fs = s3fs.S3FileSystem(\n",
    "        key=creds['aws_access_key_id'],\n",
    "        secret=creds['aws_secret_access_key'],\n",
    "        token=creds['aws_session_token'],\n",
    "        client_kwargs={'region_name': 'us-west-2'}\n",
    "    )\n",
    "except Exception as e:\n",
    "    print(f\"Failed to set up S3 file system: {e}\")\n",
    "    exit(1)"
   ]
  },
  {
   "cell_type": "code",
   "execution_count": 9,
   "metadata": {},
   "outputs": [
    {
     "name": "stdout",
     "output_type": "stream",
     "text": [
      "Failed to open and read the subsetted file: name 's3_fs' is not defined\n"
     ]
    }
   ],
   "source": [
    "# Open and read the subsetted file\n",
    "try:\n",
    "    with s3_fs.open(urls[0], mode='rb') as f:\n",
    "        ds = xr.open_dataset(f)\n",
    "    # Plot the data\n",
    "    ds.analysed_sst.plot()\n",
    "except Exception as e:\n",
    "    print(f\"Failed to open and read the subsetted file: {e}\")\n",
    "    exit(1)"
   ]
  }
 ],
 "metadata": {
  "kernelspec": {
   "display_name": "general",
   "language": "python",
   "name": "python3"
  },
  "language_info": {
   "codemirror_mode": {
    "name": "ipython",
    "version": 3
   },
   "file_extension": ".py",
   "mimetype": "text/x-python",
   "name": "python",
   "nbconvert_exporter": "python",
   "pygments_lexer": "ipython3",
   "version": "3.10.13"
  }
 },
 "nbformat": 4,
 "nbformat_minor": 2
}
