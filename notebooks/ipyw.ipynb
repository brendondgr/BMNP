{
 "cells": [
  {
   "cell_type": "code",
   "execution_count": 1,
   "metadata": {},
   "outputs": [],
   "source": [
    "# Imports\n",
    "import os \n",
    "import netCDF4\n",
    "import numpy as np\n",
    "import matplotlib.pyplot as plt\n",
    "import seaborn as sns\n",
    "import ipywidgets as widgets\n",
    "import pandas as pd\n",
    "import geopandas as gpd"
   ]
  },
  {
   "cell_type": "code",
   "execution_count": 2,
   "metadata": {},
   "outputs": [],
   "source": [
    "# Load nc file and extract data\n",
    "file = './templates/mur_mmm.nc'\n",
    "nc = netCDF4.Dataset(file, 'r')\n",
    "\n",
    "# Create a list of names for 'time' variable in nc\n",
    "time = nc.variables['time'][:]\n",
    "\n",
    "# Convert time to list\n",
    "time_list_unsorted = [int(time[i]) for i in range(len(time))]\n",
    "time_list = sorted([int(time[i]) for i in range(len(time))])"
   ]
  },
  {
   "cell_type": "code",
   "execution_count": 3,
   "metadata": {},
   "outputs": [],
   "source": [
    "def retrieveTimeIndex(time):\n",
    "    # Finds the index of the time in the nc file\n",
    "    return time_list_unsorted.index(time)"
   ]
  },
  {
   "cell_type": "code",
   "execution_count": 4,
   "metadata": {},
   "outputs": [
    {
     "data": {
      "application/vnd.jupyter.widget-view+json": {
       "model_id": "c431d719cb5840c6b10de94b0ce500c4",
       "version_major": 2,
       "version_minor": 0
      },
      "text/plain": [
       "interactive(children=(SelectionSlider(continuous_update=False, description='Time:', options=(201001, 201002, 2…"
      ]
     },
     "execution_count": 4,
     "metadata": {},
     "output_type": "execute_result"
    }
   ],
   "source": [
    "# Create a slider widget that goes through the time_list\n",
    "slider = widgets.SelectionSlider(\n",
    "    options=time_list,\n",
    "    value=time_list[0],\n",
    "    description='Time:',\n",
    "    disabled=False,\n",
    "    continuous_update=False,\n",
    "    orientation='horizontal',\n",
    "    readout=True\n",
    ")\n",
    "\n",
    "# Checkbox asking for stable colorbar\n",
    "cb = widgets.Checkbox(\n",
    "    value=False,\n",
    "    description='Stable colorbar',\n",
    "    disabled=False\n",
    ")\n",
    "\n",
    "# Function that displays the slider selection's plot\n",
    "def plot_map(time, cb):\n",
    "    # Extract the data for the selected time\n",
    "    data = nc.variables['mmm_sst'][retrieveTimeIndex(time), :, :]\n",
    "    \n",
    "    # print shape\n",
    "    print(data.shape)\n",
    "    \n",
    "    # Set the colorbar and data colors based on cb value\n",
    "    if cb:\n",
    "        cmap = 'rainbow'\n",
    "        vmin = 25\n",
    "        vmax = 31\n",
    "    else:\n",
    "        cmap = 'rainbow'\n",
    "        vmin = None\n",
    "        vmax = None\n",
    "    \n",
    "    # Plot the data\n",
    "    plt.figure(figsize=(10, 10))\n",
    "    sns.heatmap(data, cmap=cmap, vmin=vmin, vmax=vmax)    \n",
    "    plt.title('Sea Surface Temperature (SST) for time: ' + str(time))\n",
    "    \n",
    "    # Set X and Y Ticks based on nc file lat and lon values\n",
    "    lat = nc.variables['lat'][:]\n",
    "    lon = nc.variables['lon'][:]\n",
    "    plt.xticks(np.arange(0.5, len(lon), 3), np.round(lon[::3], 2))\n",
    "    plt.yticks(np.arange(0.5, len(lat), 3), np.round(lat[::3], 2))\n",
    "    \n",
    "    # Show the plot    \n",
    "    plt.show()\n",
    "    \n",
    "# Show the slider and the plot\n",
    "widgets.interactive(plot_map, time=slider, cb=cb)"
   ]
  }
 ],
 "metadata": {
  "kernelspec": {
   "display_name": "Python 3",
   "language": "python",
   "name": "python3"
  },
  "language_info": {
   "codemirror_mode": {
    "name": "ipython",
    "version": 3
   },
   "file_extension": ".py",
   "mimetype": "text/x-python",
   "name": "python",
   "nbconvert_exporter": "python",
   "pygments_lexer": "ipython3",
   "version": "3.11.5"
  }
 },
 "nbformat": 4,
 "nbformat_minor": 2
}
