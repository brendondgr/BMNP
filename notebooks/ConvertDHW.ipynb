{
 "cells": [
  {
   "cell_type": "code",
   "execution_count": 2,
   "metadata": {},
   "outputs": [],
   "source": [
    "import numpy as np\n",
    "import os\n",
    "import pandas as pd"
   ]
  },
  {
   "cell_type": "code",
   "execution_count": 3,
   "metadata": {},
   "outputs": [
    {
     "name": "stdout",
     "output_type": "stream",
     "text": [
      "./datadiv2/: 3569\n",
      "./datadiv7/: 3569\n",
      "./datanodiv/: 3569\n"
     ]
    }
   ],
   "source": [
    "folderlist = ['./datadiv2/', './datadiv7/', './datanodiv/']\n",
    "csvnames = ['div2.csv', 'div7.csv', 'nodiv.csv']\n",
    "\n",
    "# for loop, printing total number of items in each folderlist\n",
    "for folder in folderlist:\n",
    "    itemsinside = os.listdir(folder)\n",
    "    print(f'{folder}: {len(itemsinside)}')"
   ]
  },
  {
   "cell_type": "code",
   "execution_count": 4,
   "metadata": {},
   "outputs": [
    {
     "name": "stdout",
     "output_type": "stream",
     "text": [
      "./datadiv2/ done, saved to div2.csv\n",
      "./datadiv7/ done, saved to div7.csv\n",
      "./datanodiv/ done, saved to nodiv.csv\n"
     ]
    }
   ],
   "source": [
    "import warnings\n",
    "warnings.filterwarnings(\"ignore\")\n",
    "\n",
    "count = 0\n",
    "for folder in folderlist:\n",
    "    # Empty pandas dataframe with 'date' and 'sst' column\n",
    "    dfmax = pd.DataFrame(columns=['date', 'sst'])\n",
    "    dfavg = pd.DataFrame(columns=['date', 'sst'])\n",
    "    \n",
    "    # find items in folder\n",
    "    items = os.listdir(folder)\n",
    "    \n",
    "    for item in items:\n",
    "        location = folder + item\n",
    "        #print(location)\n",
    "        # Record date, which is first 8 characters of filename\n",
    "        date = item[:8]\n",
    "        \n",
    "        # Read in the data as dataframe\n",
    "        data = pd.read_csv(location)\n",
    "        \n",
    "        # Find the maximum value of the data\n",
    "        maximum = data.max().max()\n",
    "        \n",
    "        # Find the average of the non nan values\n",
    "        average = data.stack().mean()\n",
    "        #print(f'{date}: {maximum}, {average}')\n",
    "        \n",
    "        # Concat this to the df\n",
    "        dfavg = pd.concat([dfavg, pd.DataFrame({'date': [date], 'sst': [average]})])\n",
    "        dfmax = pd.concat([dfmax, pd.DataFrame({'date': [date], 'sst': [maximum]})])\n",
    "    \n",
    "    # Order dataframe by date\n",
    "    dfavg = dfavg.sort_values(by='date')\n",
    "    dfmax = dfmax.sort_values(by='date')\n",
    "    \n",
    "    # save the dataframe to a csv\n",
    "    csvfiles = './csvfiles/'\n",
    "    dfavg.to_csv(f'{csvfiles}avg{csvnames[count]}', index=False)\n",
    "    dfmax.to_csv(f'{csvfiles}max{csvnames[count]}', index=False)\n",
    "    count += 1\n",
    "    print(f'{folder} done, saved to {csvnames[count-1]}')"
   ]
  }
 ],
 "metadata": {
  "kernelspec": {
   "display_name": "Python 3",
   "language": "python",
   "name": "python3"
  },
  "language_info": {
   "codemirror_mode": {
    "name": "ipython",
    "version": 3
   },
   "file_extension": ".py",
   "mimetype": "text/x-python",
   "name": "python",
   "nbconvert_exporter": "python",
   "pygments_lexer": "ipython3",
   "version": "3.11.6"
  }
 },
 "nbformat": 4,
 "nbformat_minor": 2
}
